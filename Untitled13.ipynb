{
  "nbformat": 4,
  "nbformat_minor": 0,
  "metadata": {
    "colab": {
      "name": "Untitled13.ipynb",
      "provenance": [],
      "include_colab_link": true
    },
    "kernelspec": {
      "name": "python3",
      "display_name": "Python 3"
    }
  },
  "cells": [
    {
      "cell_type": "markdown",
      "metadata": {
        "id": "view-in-github",
        "colab_type": "text"
      },
      "source": [
        "<a href=\"https://colab.research.google.com/github/markcatinoy/Numerical_Method/blob/main/Untitled13.ipynb\" target=\"_parent\"><img src=\"https://colab.research.google.com/assets/colab-badge.svg\" alt=\"Open In Colab\"/></a>"
      ]
    },
    {
      "cell_type": "code",
      "metadata": {
        "colab": {
          "base_uri": "https://localhost:8080/"
        },
        "id": "DWCei9kln37K",
        "outputId": "5d335748-cc1c-4ec9-d921-b84d65a1ea47"
      },
      "source": [
        "import numpy as np\r\n",
        "import matplotlib.pyplot as plt\r\n",
        "def f(x): return x**2 + 2*x - 3\r\n",
        "def g(x): return 2*x + 2\r\n",
        "def newtonRaphson(x1,e,N):\r\n",
        "  epochs = 50\r\n",
        "  e = -10\r\n",
        "  \r\n",
        "  step = 1\r\n",
        "  flag = 1\r\n",
        "  condition = True\r\n",
        "  while condition:\r\n",
        "        if g(x1) == 0:\r\n",
        "            print('Divide by zero error!')\r\n",
        "            break       \r\n",
        "        xf = x1 - f(x1)/g(x1)\r\n",
        "        print('Iteration -%d, xf = %0.6f and f(xf) = %0.6f' % (step, xf, f(xf)))\r\n",
        "        x1 = xf\r\n",
        "        step = step + 1   \r\n",
        "        if step > N:\r\n",
        "            flag = 0\r\n",
        "            break       \r\n",
        "        condition = abs(f(xf)) > e    \r\n",
        "        if flag==1:\r\n",
        "         print('\\nRequired root is: %0.8f' % xf)\r\n",
        "        else:\r\n",
        "         print('\\nNot Convergent.')\r\n",
        "x1 = input('Enter value: ')\r\n",
        "N = input('Steps: ')\r\n",
        "e = input('Error: ')\r\n",
        "x1 = float(x1)\r\n",
        "e = float(e)\r\n",
        "N = int(N)\r\n",
        "newtonRaphson(x1,e,N)\r\n",
        "\r\n",
        "e = -10\r\n",
        "x_roots = []\r\n",
        "for epoch in range(epochs):\r\n",
        "  x_guess = f(e)\r\n",
        "  print(x_guess)\r\n",
        "  if x_guess == 0:\r\n",
        "    x_roots.append(e)\r\n",
        "    break\r\n",
        "  else:\r\n",
        "    e+=1\r\n",
        "print(\"The root is: {}, found at epoch {}\".format(x_roots,epoch))\r\n",
        "\r\n",
        "epochs = 100\r\n",
        "x_inits = np.arange(0,5)\r\n",
        "roots = []\r\n",
        "for x_init in x_inits:\r\n",
        "  x = x_init\r\n",
        "  for epoch in range(epochs):\r\n",
        "    x_prime = x - (f(x)/g(x))\r\n",
        "    if np.allclose(x, x_prime):\r\n",
        "      roots.append(x)\r\n",
        "      break\r\n",
        "    x = x_prime\r\n",
        "print(\"The roots are {}, found at epoch {} \" .format(roots,epoch))"
      ],
      "execution_count": null,
      "outputs": [
        {
          "output_type": "stream",
          "text": [
            "Enter value: 1\n",
            "Steps: 2\n",
            "Error: 1\n",
            "Iteration -1, xf = 1.000000 and f(xf) = 0.000000\n",
            "\n",
            "Required root is: 1.00000000\n",
            "Iteration -2, xf = 1.000000 and f(xf) = 0.000000\n",
            "77\n",
            "60\n",
            "45\n",
            "32\n",
            "21\n",
            "12\n",
            "5\n",
            "0\n",
            "The root is: [-3], found at epoch 7\n",
            "The roots are [1.0000000929222947, 1, 1.0000000000262144, 1.0000000929222947, 1.0000051812194737], found at epoch 4 \n"
          ],
          "name": "stdout"
        }
      ]
    },
    {
      "cell_type": "markdown",
      "metadata": {
        "id": "JHnHze-oyUoF"
      },
      "source": [
        "**Explanation about the codes**\r\n",
        "\r\n",
        "by A.D Buenaventura, M.A Catinoy and E.J Vergara © 2021\r\n",
        "\r\n",
        "\r\n",
        "In this coding actvity, we need to create a user-defined function for the simple iterative method and the Newton-Raphson Method, we have the equation of $$x^2 + 2x - 3$$ and the derivative of this equation is $$2x+2$$ we use this as the function. \r\n",
        "Iteration method is used in solving mathematical equation by using an initial value and use it to obtain a new value. Newton raphson method is used to find a root algorithm that produce a better approximastion of the root in a real value function. Epochs are based on the numbers that passes the dataset or in the equation. Optimal parameters are measurable factors that forms into one of the set that defines a set or a system.\r\n",
        "\r\n",
        "We accomplish to find what are the roots to be solved, the number of epoch in the given equation. We use \"x\" as the parameter of the given function. We use \"abs\" to return the absolute value of the argument. We used def newtonRaphson(x1,e,N): as our function to define the starting values, steps, and error in the program. Here is my GitHub Repo [link](https://github.com/EJVergz/58015-NumericalMethod/blob/main/NuMeth_Group7_RootsOfLinearEquationCodingActivity3.ipynb)."
      ]
    }
  ]
}