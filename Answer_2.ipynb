{
  "nbformat": 4,
  "nbformat_minor": 0,
  "metadata": {
    "colab": {
      "name": "Answer_2",
      "provenance": [],
      "collapsed_sections": [],
      "include_colab_link": true
    },
    "kernelspec": {
      "name": "python3",
      "display_name": "Python 3"
    }
  },
  "cells": [
    {
      "cell_type": "markdown",
      "metadata": {
        "id": "view-in-github",
        "colab_type": "text"
      },
      "source": [
        "<a href=\"https://colab.research.google.com/github/markcatinoy/Numerical_Method/blob/main/Answer_2.ipynb\" target=\"_parent\"><img src=\"https://colab.research.google.com/assets/colab-badge.svg\" alt=\"Open In Colab\"/></a>"
      ]
    },
    {
      "cell_type": "code",
      "metadata": {
        "id": "UDcO3lVQ56SX"
      },
      "source": [
        "import numpy as np\r\n",
        "import matplotlib.pyplot as plt\r\n",
        "link here"
      ],
      "execution_count": null,
      "outputs": []
    },
    {
      "cell_type": "markdown",
      "metadata": {
        "id": "osBS055zdv6l"
      },
      "source": [
        "*© A.D Buenaventura, M.A Catinoy and E.J Vergara 2021*"
      ]
    },
    {
      "cell_type": "markdown",
      "metadata": {
        "id": "aS6TgXpmaB4d"
      },
      "source": [
        "#Brute Force Method"
      ]
    },
    {
      "cell_type": "code",
      "metadata": {
        "colab": {
          "base_uri": "https://localhost:8080/"
        },
        "id": "3QgYlyPh55Px",
        "outputId": "c0f1f34d-0c26-4b0d-87a8-4a5d2b9ce929"
      },
      "source": [
        "import numpy as np\r\n",
        "import matplotlib.pyplot as plt\r\n",
        "import math\r\n",
        "def f1(x): return 2-x**2\r\n",
        "def f2(x): return np.sqrt(2-x)\r\n",
        "equation = [f1,f2]\r\n",
        "def iterative(equations, n_roots, epochs, precision, x):\r\n",
        "  roots = []\r\n",
        "  end_epoch = 0\r\n",
        "  \r\n",
        "  for equation in equations:\r\n",
        "      x\r\n",
        "      for epoch in range(epochs):\r\n",
        "        x_prime = equation(x)\r\n",
        "        if np.allclose(x, x_prime, precision):\r\n",
        "          if len(roots) == n_roots: break\r\n",
        "          roots.append(x)\r\n",
        "          break\r\n",
        "        x = x_prime\r\n",
        "      if len(roots) > 1:\r\n",
        "        print(\" The root is {} found after {} epochs\".format(roots, epoch))\r\n",
        "                \r\n",
        "iterative(equation, 2, 100, 1e-6, 2)"
      ],
      "execution_count": null,
      "outputs": [
        {
          "output_type": "stream",
          "text": [
            " The root is [-2, 1.000000432443436] found after 23 epochs\n"
          ],
          "name": "stdout"
        }
      ]
    },
    {
      "cell_type": "markdown",
      "metadata": {
        "id": "Xmf1DVbDaG0d"
      },
      "source": [
        "#Newton Raphson Method"
      ]
    },
    {
      "cell_type": "code",
      "metadata": {
        "colab": {
          "base_uri": "https://localhost:8080/"
        },
        "id": "xkVrgTMb6MRA",
        "outputId": "6f5e57d3-fac5-4884-8866-f769f31d0889"
      },
      "source": [
        "import numpy as np\r\n",
        "def f(x):\r\n",
        "    return x**3-6*x**2-9*x+54\r\n",
        "def fprime(x):\r\n",
        "    return 3*x**2-12*x-9\r\n",
        "def newton(x0,x2,n):\r\n",
        "    step = 1\r\n",
        "    steps = 1\r\n",
        "    condition = True\r\n",
        "    while condition:\r\n",
        "        if fprime(x0) == 0.0:\r\n",
        "            print('There is a mathematical error.')\r\n",
        "            break\r\n",
        "\r\n",
        "        x1 = x0 - f(x0)/fprime(x0)\r\n",
        "        print('Iteration -%d, x1 = %0.6f and f(x1) = %0.6f' % (step, x1, f(x1)))\r\n",
        "        x0 = x1\r\n",
        "        step = step + 1\r\n",
        "        if step > n:\r\n",
        "          steps = 0\r\n",
        "          break\r\n",
        "        condition = abs(f(x1)) > x2\r\n",
        "        if steps==1:\r\n",
        "          print('\\nRequired root is: %0.8f\\n' % x1)\r\n",
        "          print(\"Found at epoch {} \\n\" .format(step-1)) \r\n",
        "        else:\r\n",
        "          print('\\nNot Convergent.')\r\n",
        "    \r\n",
        "epoch = 100\r\n",
        "x_inits = np.array([3,-3,6])\r\n",
        "roots = []\r\n",
        "for x_init in x_inits:\r\n",
        "  x = x_init\r\n",
        "  for epoch in range(epochs):\r\n",
        "    x_prime = x - (f(x)/fprime(x))\r\n",
        "    if np.allclose(x, x_prime):\r\n",
        "      roots.append(x)\r\n",
        "      break\r\n",
        "    x = x_prime\r\n",
        "newton(2,0.0001,10)"
      ],
      "execution_count": null,
      "outputs": [
        {
          "output_type": "stream",
          "text": [
            "Iteration -1, x1 = 2.952381 and f(x1) = 0.863838\n",
            "\n",
            "Required root is: 2.95238095\n",
            "\n",
            "Found at epoch 1 \n",
            "\n",
            "Iteration -2, x1 = 2.999640 and f(x1) = 0.006487\n",
            "\n",
            "Required root is: 2.99963965\n",
            "\n",
            "Found at epoch 2 \n",
            "\n",
            "Iteration -3, x1 = 3.000000 and f(x1) = 0.000000\n",
            "\n",
            "Required root is: 2.99999998\n",
            "\n",
            "Found at epoch 3 \n",
            "\n"
          ],
          "name": "stdout"
        }
      ]
    },
    {
      "cell_type": "markdown",
      "metadata": {
        "id": "S2xo_HViaLjF"
      },
      "source": [
        "#Bisection Method"
      ]
    },
    {
      "cell_type": "code",
      "metadata": {
        "colab": {
          "base_uri": "https://localhost:8080/"
        },
        "id": "0cni_ztm-3gh",
        "outputId": "00ba0627-7fcf-40f3-8d5c-ab14c6a32f32"
      },
      "source": [
        "f = lambda x: x**3 -6*x**2 - 9*x + 54\r\n",
        "def f1(x): return x**3 - 6*x**2 + 11*x - 6\r\n",
        "def bisection(equation, i1, i2, epochs, precision, n_roots):\r\n",
        "  y1, y2 = f(i1), f(i2)\r\n",
        "  x_roots = []\r\n",
        "  end_bisect = 0\r\n",
        "  if np.sign(y1) == np.sign(y2):\r\n",
        "      print(\"Root not found\")\r\n",
        "  else:\r\n",
        "        for bisect in range(epochs):\r\n",
        "          midp = np.mean([i1,i2])\r\n",
        "          y_mid = equation(midp)\r\n",
        "          y1 = equation(i1)\r\n",
        "          if np.allclose(0, y1, precision):\r\n",
        "              x_roots.append(i1)\r\n",
        "              end_bisect = bisect\r\n",
        "              if len(x_roots) == n_roots:\r\n",
        "                break\r\n",
        "          if np.sign(y1) != np.sign(y_mid):\r\n",
        "             i2 = midp\r\n",
        "          else:\r\n",
        "             i1 = midp \r\n",
        "        if len(x_roots) <= 1:\r\n",
        "          print(f\"Root is: {x_roots}\\n Found at epoch  {end_bisect}\")\r\n",
        "        elif len(x_roots) > 1:\r\n",
        "          print(f\"Roots are: {x_roots}\\n Found at epoch  {end_bisect}\")\r\n",
        "bisection(f, 1.1, 3, 100, 4, 5)"
      ],
      "execution_count": null,
      "outputs": [
        {
          "output_type": "stream",
          "text": [
            "Roots are: [1.1, 2.05, 2.525, 2.7625, 2.88125]\n",
            " Found at epoch  4\n"
          ],
          "name": "stdout"
        }
      ]
    },
    {
      "cell_type": "markdown",
      "metadata": {
        "id": "UMwUfsnPaN6F"
      },
      "source": [
        "#Regula Falsi Method"
      ]
    },
    {
      "cell_type": "code",
      "metadata": {
        "colab": {
          "base_uri": "https://localhost:8080/"
        },
        "id": "AXez7JdhQUiQ",
        "outputId": "089bf867-4c9d-443d-8ead-daf73fcdce8d"
      },
      "source": [
        "f = lambda x: x**3 -6*x**2 - 9*x + 54\r\n",
        "def f1(x): return x**3 - 6*x**2 + 11*x - 6\r\n",
        "def Regula_falsi(equation, a, b, epochs, precision, n_roots):\r\n",
        " y1, y2 = equation(a), equation(b)\r\n",
        " x_roots=[]\r\n",
        " epoch = 0\r\n",
        " try:\r\n",
        "    if np.allclose(0,y1): x_roots.append(a)\r\n",
        "    elif np.allclose(0,y2): x_roots.append(b)\r\n",
        "    elif np.sign(y1) == np.sign(y2):\r\n",
        "      print(\"No root here\")\r\n",
        "    else:\r\n",
        "      for epoch in range(epochs):\r\n",
        "        c = b - (equation(b)*(b-a))/(equation(b) - equation(a)) ##false root\r\n",
        "        if np.allclose(0,equation(c), precision):\r\n",
        "          x_roots.append(c)\r\n",
        "          if len(x_roots) == n_roots:\r\n",
        "            break\r\n",
        "\r\n",
        "        if no.sign(equation(a)) != np.sign(equation(c)): b,y2 = c,equation(c)\r\n",
        "        else: a, y1 = c,equation(c)\r\n",
        "   \r\n",
        "    if len(x_roots) <= 1:\r\n",
        "      print(f\"The root is: {x_roots}, found at epoch {epoch}\")\r\n",
        "    elif len (x_roots) > 1:\r\n",
        "      print(f\"The roots are: {x_roots}, found at epoch {epoch}\")\r\n",
        " except Exception as e:\r\n",
        "    print(\"Error: \", e)\r\n",
        "Regula_falsi(f, 1.1, 3, 100, 4, 5)\r\n"
      ],
      "execution_count": null,
      "outputs": [
        {
          "output_type": "stream",
          "text": [
            "The root is: [3], found at epoch 0\n"
          ],
          "name": "stdout"
        }
      ]
    },
    {
      "cell_type": "markdown",
      "metadata": {
        "id": "KD7PPwiEaQ3t"
      },
      "source": [
        "#Secant Method"
      ]
    },
    {
      "cell_type": "code",
      "metadata": {
        "colab": {
          "base_uri": "https://localhost:8080/"
        },
        "id": "64rfUKH9TSIH",
        "outputId": "dce336f8-4f4c-40d7-810c-7ddb760a4b6d"
      },
      "source": [
        "def f(x):\r\n",
        "    return x**3 - 2*x - 1\r\n",
        "\r\n",
        "def secant(x0,x1,n,N):\r\n",
        "    step = 1\r\n",
        "    condition = True\r\n",
        "    while condition:\r\n",
        "        if f(x0) == f(x1):\r\n",
        "            print('There is a mathematical error.')\r\n",
        "            break\r\n",
        "        \r\n",
        "        x2 = x0 - (x1-x0)*f(x0)/( f(x1) - f(x0) ) \r\n",
        "        print('Iteration-%d, x2 = %0.6f and f(x2) = %0.6f' % (step, x2, f(x2)))\r\n",
        "        x0 = x1\r\n",
        "        x1 = x2\r\n",
        "        step = step + 1\r\n",
        "        \r\n",
        "        if step > N:\r\n",
        "            print('Not Convergent!')\r\n",
        "            break\r\n",
        "        \r\n",
        "        condition = abs(f(x2)) > n\r\n",
        "    print('\\nRequired root is: %0.8f' % x2)\r\n",
        "    print(\"Found at epoch {} \\n\" .format(step-1)) \r\n",
        "secant(2,3,0.000001,10)"
      ],
      "execution_count": null,
      "outputs": [
        {
          "output_type": "stream",
          "text": [
            "Iteration-1, x2 = 1.823529 and f(x2) = 1.416650\n",
            "Iteration-2, x2 = 1.733844 and f(x2) = 0.744623\n",
            "Iteration-3, x2 = 1.634471 and f(x2) = 0.097541\n",
            "Iteration-4, x2 = 1.619492 and f(x2) = 0.008544\n",
            "Iteration-5, x2 = 1.618054 and f(x2) = 0.000115\n",
            "Iteration-6, x2 = 1.618034 and f(x2) = 0.000000\n",
            "\n",
            "Required root is: 1.61803401\n",
            "Found at epoch 6 \n",
            "\n"
          ],
          "name": "stdout"
        }
      ]
    }
  ]
}