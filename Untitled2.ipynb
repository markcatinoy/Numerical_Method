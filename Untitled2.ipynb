{
  "nbformat": 4,
  "nbformat_minor": 0,
  "metadata": {
    "colab": {
      "name": "Untitled2.ipynb",
      "provenance": [],
      "collapsed_sections": [],
      "authorship_tag": "ABX9TyMqtUi5LhmBFTKS5TTyqAKf",
      "include_colab_link": true
    },
    "kernelspec": {
      "name": "python3",
      "display_name": "Python 3"
    },
    "language_info": {
      "name": "python"
    }
  },
  "cells": [
    {
      "cell_type": "markdown",
      "metadata": {
        "id": "view-in-github",
        "colab_type": "text"
      },
      "source": [
        "<a href=\"https://colab.research.google.com/github/markcatinoy/Numerical_Method/blob/main/Untitled2.ipynb\" target=\"_parent\"><img src=\"https://colab.research.google.com/assets/colab-badge.svg\" alt=\"Open In Colab\"/></a>"
      ]
    },
    {
      "cell_type": "code",
      "metadata": {
        "id": "mX978aTRuXko"
      },
      "source": [
        "import numpy as np"
      ],
      "execution_count": 6,
      "outputs": []
    },
    {
      "cell_type": "code",
      "metadata": {
        "colab": {
          "base_uri": "https://localhost:8080/"
        },
        "id": "HTWDeH3LuV0T",
        "outputId": "55d216e5-cbb3-4ff0-8654-87daf76e41cb"
      },
      "source": [
        "print(\"==============================================\")\n",
        "name = input(\"| Name   | \" )\n",
        "course = input(\"| Course | \" )\n",
        "print(\"==============================================\")\n",
        "pg = float(input(\"| Prelim Grade  | \" ))\n",
        "mg = float(input(\"| Midterm Grade | \" ))     \n",
        "fg = float(input(\"| Final Grade   | \"))\n",
        "print(\"==============================================\")\n",
        "prelim = pg*.3\n",
        "midterm = mg*.3\n",
        "finals = fg*.4 \n",
        "sem_grade = prelim+midterm+finals\n",
        "sg = round(sem_grade,2)             \n",
        "print(\"| Hello! {}\".format(name))\n",
        "print(\"| Your semestral grade is | {} |\".format(sg))\n",
        "print(\"==============================================\")\n"
      ],
      "execution_count": null,
      "outputs": [
        {
          "output_type": "stream",
          "name": "stdout",
          "text": [
            "==============================================\n"
          ]
        }
      ]
    }
  ]
}