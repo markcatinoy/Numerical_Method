{
  "nbformat": 4,
  "nbformat_minor": 0,
  "metadata": {
    "colab": {
      "name": "Untitled23-1.ipynb",
      "provenance": [],
      "include_colab_link": true
    },
    "kernelspec": {
      "name": "python3",
      "display_name": "Python 3"
    }
  },
  "cells": [
    {
      "cell_type": "markdown",
      "metadata": {
        "id": "view-in-github",
        "colab_type": "text"
      },
      "source": [
        "<a href=\"https://colab.research.google.com/github/markcatinoy/Numerical_Method/blob/main/Untitled23_1.ipynb\" target=\"_parent\"><img src=\"https://colab.research.google.com/assets/colab-badge.svg\" alt=\"Open In Colab\"/></a>"
      ]
    },
    {
      "cell_type": "code",
      "metadata": {
        "id": "WoHPDDuTpyzC"
      },
      "source": [
        "import numpy as np\r\n",
        "import matplotlib.pyplot as plt\r\n",
        "import math"
      ],
      "execution_count": null,
      "outputs": []
    },
    {
      "cell_type": "markdown",
      "metadata": {
        "id": "FLGOMEB77L3A"
      },
      "source": [
        "*© A.D Buenaventura, M.A Catinoy and E.J Vergara 2021*"
      ]
    },
    {
      "cell_type": "markdown",
      "metadata": {
        "id": "kFLoDNnH57Xf"
      },
      "source": [
        "#Brute Force Method"
      ]
    },
    {
      "cell_type": "code",
      "metadata": {
        "colab": {
          "base_uri": "https://localhost:8080/"
        },
        "id": "JixxVKZp56iA",
        "outputId": "8c8f196d-bef8-4f2a-fd17-96a552ac102e"
      },
      "source": [
        "import numpy as np\r\n",
        "def f1(x):\r\n",
        "    return x**3 - 2*x - 1\r\n",
        "def f2(x):\r\n",
        "    return 3*x**2 - 2\r\n",
        "epochs = 50\r\n",
        "h = -10\r\n",
        "x_roots = []\r\n",
        "for epoch in range(epochs):\r\n",
        "  x_guess = f(h)\r\n",
        "  print(x_guess)\r\n",
        "  if x_guess == 0:\r\n",
        "    x_roots.append(h)\r\n",
        "    break\r\n",
        "  else:\r\n",
        "    h+=1\r\n",
        "print(f\"The root is: {x_roots}, found at epoch {epoch}\")"
      ],
      "execution_count": null,
      "outputs": [
        {
          "output_type": "stream",
          "text": [
            "-981\n",
            "-712\n",
            "-497\n",
            "-330\n",
            "-205\n",
            "-116\n",
            "-57\n",
            "-22\n",
            "-5\n",
            "0\n",
            "The root is: [-1], found at epoch 9\n"
          ],
          "name": "stdout"
        }
      ]
    },
    {
      "cell_type": "markdown",
      "metadata": {
        "id": "qfp9kRUZp3pa"
      },
      "source": [
        "#NEWTON RAPHSON METHOD"
      ]
    },
    {
      "cell_type": "code",
      "metadata": {
        "colab": {
          "base_uri": "https://localhost:8080/"
        },
        "id": "P4Rlt92XqDUr",
        "outputId": "ffe9b38d-8128-4565-d8f2-e9c3d4162339"
      },
      "source": [
        "import numpy as np\r\n",
        "def f(x):\r\n",
        "    return x**3 - 2*x - 1\r\n",
        "def fprime(x):\r\n",
        "    return 3*x**2 - 2\r\n",
        "def newton(x0,x2,n):\r\n",
        "    step = 1\r\n",
        "    steps = 1\r\n",
        "    condition = True\r\n",
        "    while condition:\r\n",
        "        if fprime(x0) == 0.0:\r\n",
        "            print('There is a mathematical error.')\r\n",
        "            break      \r\n",
        "        x1 = x0 - f(x0)/fprime(x0)\r\n",
        "        print('Iteration -%d, x1 = %0.6f and f(x1) = %0.6f' % (step, x1, f(x1)))\r\n",
        "        x0 = x1\r\n",
        "        step = step + 1\r\n",
        "        \r\n",
        "        if step > n:\r\n",
        "            steps = 0\r\n",
        "            break\r\n",
        "        condition = abs(f(x1)) > x2\r\n",
        "        if steps==1:\r\n",
        "          print('\\nRequired root is: %0.8f' % x1)\r\n",
        "        else:\r\n",
        "          print('\\nNot Convergent.')\r\n",
        "          \r\n",
        "x0 = input('Enter Guess: ')\r\n",
        "x2 = input('Error: ')\r\n",
        "n = input('Maximum Step: ')\r\n",
        "\r\n",
        "x0 = float(x0)\r\n",
        "x2 = float(x2)\r\n",
        "n = int(n)\r\n",
        "\r\n",
        "newton(x0,x2,n)"
      ],
      "execution_count": null,
      "outputs": [
        {
          "output_type": "stream",
          "text": [
            "Enter Guess: 1\n",
            "Error: 0.0001\n",
            "Maximum Step: 10\n",
            "Iteration -1, x1 = 3.000000 and f(x1) = 20.000000\n",
            "\n",
            "Required root is: 3.00000000\n",
            "Iteration -2, x1 = 2.200000 and f(x1) = 5.248000\n",
            "\n",
            "Required root is: 2.20000000\n",
            "Iteration -3, x1 = 1.780831 and f(x1) = 1.085990\n",
            "\n",
            "Required root is: 1.78083067\n",
            "Iteration -4, x1 = 1.636303 and f(x1) = 0.108576\n",
            "\n",
            "Required root is: 1.63630320\n",
            "Iteration -5, x1 = 1.618305 and f(x1) = 0.001584\n",
            "\n",
            "Required root is: 1.61830458\n",
            "Iteration -6, x1 = 1.618034 and f(x1) = 0.000000\n",
            "\n",
            "Required root is: 1.61803405\n"
          ],
          "name": "stdout"
        }
      ]
    },
    {
      "cell_type": "markdown",
      "metadata": {
        "id": "YEnY1pjjuTCE"
      },
      "source": [
        "#BISECTION METHOD"
      ]
    },
    {
      "cell_type": "code",
      "metadata": {
        "colab": {
          "base_uri": "https://localhost:8080/"
        },
        "id": "Zk546HHguWRY",
        "outputId": "8a78616c-ea07-431a-8917-d87249da6198"
      },
      "source": [
        "def f(x):\r\n",
        "    return x**3 - 2*x - 1\r\n",
        "\r\n",
        "def bisection(x0,x1,n):\r\n",
        "    step = 1\r\n",
        "    condition = True\r\n",
        "    while condition:\r\n",
        "        x2 = (x0 + x1)/2\r\n",
        "        print('Iteration-%d, x2 = %0.6f and f(x2) = %0.6f' % (step, x2, f(x2)))\r\n",
        "\r\n",
        "        if f(x0) * f(x2) < 0:\r\n",
        "            x1 = x2\r\n",
        "        else:\r\n",
        "            x0 = x2\r\n",
        "        \r\n",
        "        step = step + 1\r\n",
        "        condition = abs(f(x2)) > n\r\n",
        "    print('\\nRequired root is: %0.8f' % x2)\r\n",
        "x0 = input('First Guess: ')\r\n",
        "x1 = input('Second Guess: ')\r\n",
        "n = input('Error: ')\r\n",
        "\r\n",
        "x0 = float(x0)\r\n",
        "x1 = float(x1)\r\n",
        "n = float(e)\r\n",
        "\r\n",
        "if f(x0) * f(x1) > 0.0:\r\n",
        "    print('The given value do not bracket the root.')\r\n",
        "    print('Try Again.')\r\n",
        "else:\r\n",
        "    bisection(x0,x1,e)"
      ],
      "execution_count": null,
      "outputs": [
        {
          "output_type": "stream",
          "text": [
            "First Guess: 1\n",
            "Second Guess: 2\n",
            "Error: 0.0001\n",
            "Iteration-1, x2 = 1.500000 and f(x2) = -0.625000\n",
            "Iteration-2, x2 = 1.750000 and f(x2) = 0.859375\n",
            "Iteration-3, x2 = 1.625000 and f(x2) = 0.041016\n",
            "Iteration-4, x2 = 1.562500 and f(x2) = -0.310303\n",
            "Iteration-5, x2 = 1.593750 and f(x2) = -0.139313\n",
            "Iteration-6, x2 = 1.609375 and f(x2) = -0.050327\n",
            "Iteration-7, x2 = 1.617188 and f(x2) = -0.004952\n",
            "Iteration-8, x2 = 1.621094 and f(x2) = 0.017958\n",
            "Iteration-9, x2 = 1.619141 and f(x2) = 0.006484\n",
            "Iteration-10, x2 = 1.618164 and f(x2) = 0.000762\n",
            "Iteration-11, x2 = 1.617676 and f(x2) = -0.002096\n",
            "Iteration-12, x2 = 1.617920 and f(x2) = -0.000668\n",
            "Iteration-13, x2 = 1.618042 and f(x2) = 0.000047\n",
            "\n",
            "Required root is: 1.61804199\n"
          ],
          "name": "stdout"
        }
      ]
    },
    {
      "cell_type": "markdown",
      "metadata": {
        "id": "n80sHZbqvFGE"
      },
      "source": [
        "#Regula Falsi Method"
      ]
    },
    {
      "cell_type": "code",
      "metadata": {
        "colab": {
          "base_uri": "https://localhost:8080/"
        },
        "id": "fai39shEvJxT",
        "outputId": "0a2e50c2-3db9-4086-acf6-d70517533405"
      },
      "source": [
        "def f(x):\r\n",
        "    return x**3 - 2*x - 1\r\n",
        "\r\n",
        "def regula(x0,x1,n):\r\n",
        "    step = 1\r\n",
        "    condition = True\r\n",
        "    while condition:\r\n",
        "        x2 = x0 - (x1-x0) * f(x0)/( f(x1) - f(x0) )\r\n",
        "        print('Iteration-%d, x2 = %0.6f and f(x2) = %0.6f' % (step, x2, f(x2)))\r\n",
        "\r\n",
        "        if f(x0) * f(x2) < 0:\r\n",
        "            x1 = x2\r\n",
        "        else:\r\n",
        "            x0 = x2\r\n",
        "\r\n",
        "        step = step + 1\r\n",
        "        condition = abs(f(x2)) > e\r\n",
        "        \r\n",
        "    print('\\nRequired root is: %0.8f' % x2)\r\n",
        "x0 = input('First Guess: ')\r\n",
        "x1 = input('Second Guess: ')\r\n",
        "n = input('Error: ')\r\n",
        "\r\n",
        "x0 = float(x0)\r\n",
        "x1 = float(x1)\r\n",
        "e = float(e)\r\n",
        "\r\n",
        "if f(x0) * f(x1) > 0.0:\r\n",
        "    print('The given value do not bracket the root.')\r\n",
        "    print('Try Again.')\r\n",
        "else:\r\n",
        "    regula(x0,x1,e)"
      ],
      "execution_count": null,
      "outputs": [
        {
          "output_type": "stream",
          "text": [
            "First Guess: 1\n",
            "Second Guess: 2\n",
            "Error: 0.0001\n",
            "Iteration-1, x2 = 1.400000 and f(x2) = -1.056000\n",
            "Iteration-2, x2 = 1.556213 and f(x2) = -0.343591\n",
            "Iteration-3, x2 = 1.601817 and f(x2) = -0.093663\n",
            "Iteration-4, x2 = 1.613872 and f(x2) = -0.024279\n",
            "Iteration-5, x2 = 1.616972 and f(x2) = -0.006211\n",
            "Iteration-6, x2 = 1.617763 and f(x2) = -0.001583\n",
            "Iteration-7, x2 = 1.617965 and f(x2) = -0.000403\n",
            "Iteration-8, x2 = 1.618016 and f(x2) = -0.000103\n",
            "Iteration-9, x2 = 1.618030 and f(x2) = -0.000026\n",
            "\n",
            "Required root is: 1.61802952\n"
          ],
          "name": "stdout"
        }
      ]
    },
    {
      "cell_type": "markdown",
      "metadata": {
        "id": "rhhnkNjWwAik"
      },
      "source": [
        "#Secant Method"
      ]
    },
    {
      "cell_type": "code",
      "metadata": {
        "colab": {
          "base_uri": "https://localhost:8080/"
        },
        "id": "CjWuA02mwCvz",
        "outputId": "a8c6587c-02db-49ec-cbf4-ba3128e0c29a"
      },
      "source": [
        "def f(x):\r\n",
        "    return x**3 - 2*x - 1\r\n",
        "\r\n",
        "def secant(x0,x1,n,N):\r\n",
        "    step = 1\r\n",
        "    condition = True\r\n",
        "    while condition:\r\n",
        "        if f(x0) == f(x1):\r\n",
        "            print('There is a mathematical error.')\r\n",
        "            break\r\n",
        "        \r\n",
        "        x2 = x0 - (x1-x0)*f(x0)/( f(x1) - f(x0) ) \r\n",
        "        print('Iteration-%d, x2 = %0.6f and f(x2) = %0.6f' % (step, x2, f(x2)))\r\n",
        "        x0 = x1\r\n",
        "        x1 = x2\r\n",
        "        step = step + 1\r\n",
        "        \r\n",
        "        if step > N:\r\n",
        "            print('Not Convergent!')\r\n",
        "            break\r\n",
        "        \r\n",
        "        condition = abs(f(x2)) > n\r\n",
        "    print('\\nRequired root is: %0.8f' % x2)\r\n",
        "\r\n",
        "x0 = input('Enter First Guess: ')\r\n",
        "x1 = input('Enter Second Guess: ')\r\n",
        "n = input('Tolerable Error: ')\r\n",
        "N = input('Maximum Step: ')\r\n",
        "\r\n",
        "x0 = float(x0)\r\n",
        "x1 = float(x1)\r\n",
        "n = float(n)\r\n",
        "N = int(N)\r\n",
        "\r\n",
        "secant(x0,x1,n,N)"
      ],
      "execution_count": null,
      "outputs": [
        {
          "output_type": "stream",
          "text": [
            "Enter First Guess: 1\n",
            "Enter Second Guess: 2\n",
            "Tolerable Error: 0.0001\n",
            "Maximum Step: 10\n",
            "Iteration-1, x2 = 1.400000 and f(x2) = -1.056000\n",
            "Iteration-2, x2 = 1.556213 and f(x2) = -0.343591\n",
            "Iteration-3, x2 = 1.631554 and f(x2) = 0.080035\n",
            "Iteration-4, x2 = 1.617320 and f(x2) = -0.004179\n",
            "Iteration-5, x2 = 1.618026 and f(x2) = -0.000047\n",
            "\n",
            "Required root is: 1.61802604\n"
          ],
          "name": "stdout"
        }
      ]
    }
  ]
}