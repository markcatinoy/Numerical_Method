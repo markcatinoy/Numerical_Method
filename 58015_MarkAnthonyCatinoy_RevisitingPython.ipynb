{
  "nbformat": 4,
  "nbformat_minor": 0,
  "metadata": {
    "colab": {
      "name": "58015_MarkAnthonyCatinoy_RevisitingPython",
      "provenance": [],
      "collapsed_sections": [],
      "include_colab_link": true
    },
    "kernelspec": {
      "name": "python3",
      "display_name": "Python 3"
    }
  },
  "cells": [
    {
      "cell_type": "markdown",
      "metadata": {
        "id": "view-in-github",
        "colab_type": "text"
      },
      "source": [
        "<a href=\"https://colab.research.google.com/github/markcatinoy/Numerical_Method/blob/main/58015_MarkAnthonyCatinoy_RevisitingPython.ipynb\" target=\"_parent\"><img src=\"https://colab.research.google.com/assets/colab-badge.svg\" alt=\"Open In Colab\"/></a>"
      ]
    },
    {
      "cell_type": "markdown",
      "metadata": {
        "id": "QnAdk8hy7Bl9"
      },
      "source": [
        "##Welcome to Python Fundamentals\r\n",
        "Mark Anthony B, Catinoy\r\n",
        "\r\n",
        "This activity is to create a grade calculator that computes for the semestral grade of a course.\r\n",
        "\r\n",
        "Inputs required:\r\n",
        "\r\n",
        "*   Name:\r\n",
        "*   Prelim Grade:\r\n",
        "*   Midterm Grade:\r\n",
        "*   Final Grade:\r\n"
      ]
    },
    {
      "cell_type": "markdown",
      "metadata": {
        "id": "T6ABRAjTT1Ta"
      },
      "source": [
        "## Activity\r\n",
        "The code below is a calculator that computes the grade of a student\r\n",
        "This program will ask to fill the name, prelim grade, midterm, final grade of the student and then compute the semestral grade. \r\n",
        "\r\n",
        "The grades has corresponding emojis: \r\n",
        "\r\n",
        "*   Happy:  when the grade is greater than 70\r\n",
        "*   Laughing: when the is exactly 70\r\n",
        "*   Sad: when the grade is below 70\r\n"
      ]
    },
    {
      "cell_type": "code",
      "metadata": {
        "colab": {
          "base_uri": "https://localhost:8080/"
        },
        "id": "LyoXNn20ysy0",
        "outputId": "a647c4fa-2e96-4890-b375-b9f3a0c8f7bd"
      },
      "source": [
        "print(\"==============================================\")\r\n",
        "name = input(\"| Name   | \" )\r\n",
        "course = input(\"| Course | \" )\r\n",
        "print(\"==============================================\")\r\n",
        "pg = float(input(\"| Prelim Grade  | \" ))\r\n",
        "mg = float(input(\"| Midterm Grade | \" ))     \r\n",
        "fg = float(input(\"| Final Grade   | \"))\r\n",
        "print(\"==============================================\")\r\n",
        "prelim = pg*.3\r\n",
        "midterm = mg*.3\r\n",
        "finals = fg*.4 \r\n",
        "sem_grade = prelim+midterm+finals\r\n",
        "sg = round(sem_grade,2)             \r\n",
        "print(\"| Hello {}, your semestral grade is | {} |\".format(name, sg)) \r\n",
        "print(\"==============================================\")\r\n",
        "if(sg>70):\r\n",
        "    print(\"                  \\U0001F600          \")\r\n",
        "elif(sg<70):\r\n",
        "    print(\"                  \\U0001F619          \")   \r\n",
        "else:\r\n",
        "    print(\"                  \\U0001F923          \")"
      ],
      "execution_count": 4,
      "outputs": [
        {
          "output_type": "stream",
          "text": [
            "==============================================\n",
            "| Name   | Mark\n",
            "| Course | BS CpE\n",
            "==============================================\n",
            "| Prelim Grade  | 85\n",
            "| Midterm Grade | 78\n",
            "| Final Grade   | 80\n",
            "==============================================\n",
            "| Hello Mark, your semestral grade is | 80.9 |\n",
            "==============================================\n",
            "                  😀          \n"
          ],
          "name": "stdout"
        }
      ]
    }
  ]
}