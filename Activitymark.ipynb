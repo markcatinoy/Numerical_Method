{
  "nbformat": 4,
  "nbformat_minor": 0,
  "metadata": {
    "colab": {
      "name": "Activitymark.ipynb",
      "provenance": [],
      "collapsed_sections": []
    },
    "kernelspec": {
      "name": "python3",
      "display_name": "Python 3"
    }
  },
  "cells": [
    {
      "cell_type": "code",
      "metadata": {
        "id": "969x9CwIm6uJ"
      },
      "source": [
        "print(\"==============================================\")\r\n",
        "name = input(\"| Name   | \" )\r\n",
        "course = input(\"| Course | \" )\r\n",
        "print(\"==============================================\")\r\n",
        "pg = float(input(\"| Prelim Grade  | \" ))\r\n",
        "mg = float(input(\"| Midterm Grade | \" ))     \r\n",
        "fg = float(input(\"| Final Grade   | \"))\r\n",
        "print(\"==============================================\")\r\n",
        "prelim = pg*.3\r\n",
        "midterm = mg*.3\r\n",
        "finals = fg*.4 \r\n",
        "sem_grade = prelim+midterm+finals\r\n",
        "sg = round(sem_grade,2)             \r\n",
        "print(\"| Hello {}, your semestral grade is | {} |\".format(name, sg))\r\n",
        "print(\"==============================================\")\r\n",
        "if(sg>70):\r\n",
        "    print(\"\\U0001F600\")\r\n",
        "elif(sg<70):\r\n",
        "    print(\"\\U0001F619\")   \r\n",
        "else:\r\n",
        "    print(\"\\U0001F923\")"
      ],
      "execution_count": null,
      "outputs": []
    }
  ]
}