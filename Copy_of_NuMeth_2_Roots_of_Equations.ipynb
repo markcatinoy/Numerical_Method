{
  "nbformat": 4,
  "nbformat_minor": 0,
  "metadata": {
    "colab": {
      "name": "Copy of NuMeth 2 - Roots of Equations",
      "provenance": [],
      "collapsed_sections": [],
      "include_colab_link": true
    },
    "kernelspec": {
      "name": "python3",
      "display_name": "Python 3"
    }
  },
  "cells": [
    {
      "cell_type": "markdown",
      "metadata": {
        "id": "view-in-github",
        "colab_type": "text"
      },
      "source": [
        "<a href=\"https://colab.research.google.com/github/markcatinoy/Numerical_Method/blob/main/Copy_of_NuMeth_2_Roots_of_Equations.ipynb\" target=\"_parent\"><img src=\"https://colab.research.google.com/assets/colab-badge.svg\" alt=\"Open In Colab\"/></a>"
      ]
    },
    {
      "cell_type": "markdown",
      "metadata": {
        "id": "yFqNW7jIDJaY"
      },
      "source": [
        "**Roots of Equations**\r\n",
        "\r\n",
        "*by E.J Vergara, A.D Buenaventura and M.A Catinoy © 2021*\r\n",
        "\r\n",
        "Many problems in engineering, the sciences, and cognitive computing is founded on root-finding algorithms. In this module, we will discuss how to algorithmically solve for the roots of non-linear equations (i.e. equations of higher-order and transcendental functions). We will discuss several methods in solving the roots of these equations. The coverage of the module is as follows:\r\n",
        "\r\n",
        "* Review of Roots\r\n",
        "* Simple Iteration Method (Brute Force)\r\n",
        "* Convergence vs. Divergence\r\n",
        "* Newton-Raphson Method\r\n",
        "* Bisection Method\r\n",
        "* Regula Falsi Method (False Position) \r\n",
        "* Secant Method\r\n",
        "* Python Functions for Roots\r\n",
        "* Applications of Root-finding"
      ]
    },
    {
      "cell_type": "markdown",
      "metadata": {
        "id": "q0LAjlS-GQzP"
      },
      "source": [
        "## 2.1 What are roots again?\r\n",
        "\r\n",
        "Several engineering and scientific problems can be formulated in terms of finding the value/s of some parameter or variable $x$ which results in a zero value of some function of that variable (i.e. stability, entropy, equilibirum). Mathematically, this is represented by:\r\n",
        "\r\n",
        "$$F(x)=0 \r\n",
        "\\\\ _{\\text{(Eq. 2.1.1)}}$$ \r\n",
        "Whereas $F(x)$ is some function of $x$. These functions could be polynomials:\r\n",
        "\r\n",
        "$$F(x)=a_0+a_1x+a_2x^2+a_3x^3+...+a_1x^n \r\n",
        "\\\\ _{\\text{(Eq. 2.1.2)}}$$\r\n",
        "Whereas $a_k$ is a numerical coefficient that could be any real number while $x^k$ is the parameter or variable in the polynomial.\r\n",
        "\r\n",
        "$F(x)$ could also be transcendental functions:\r\n",
        "\r\n",
        "$$F(x)=2e^{x+1}+3e^{(x+1)^2} \r\n",
        "\\\\ _{\\text{(Eq. 2.1.3)}}$$\r\n",
        "Transcendental functions are functions that are expressible as a finite combination of the algebraic operations of addition, subtraction, multiplication, division, raising to a power, and extracting a root. They could include but are not limited to trigonometric functions, exponential functions, or logarithmic functions."
      ]
    },
    {
      "cell_type": "markdown",
      "metadata": {
        "id": "dneITzgFNaEt"
      },
      "source": [
        "### Manual Computation\r\n",
        "\r\n",
        "A traditional practice in engineering mathematics or any traditional mathematics class is to solve for the roots using pen and paper or using a standard equation such as the quadratic formula:\r\n",
        "\r\n",
        "$$x = \\frac{-b\\pm\\sqrt{b^2-4ac}}{2a} \r\n",
        "\\\\ _{\\text{(Eq. 2.1.4)}}$$\r\n",
        "We can apply Eq. 2.1.4 to a quadratic equation, for example with:\r\n",
        "$$F(x)=x^2+x-2$$\r\n",
        "We can derive the roots $x_0=-2$ and $x_1=1$. This satisfies the condition of Eq. 2.1.1, whereupon setting the pre-image of the function to the roots $x_0$ and $x_1$ will yield an image of 0.\r\n",
        "\r\n",
        "We can go further in visualizing the roots and its function using Python."
      ]
    },
    {
      "cell_type": "code",
      "metadata": {
        "id": "6uSnzzZqSVJC"
      },
      "source": [
        "import numpy as np\r\n",
        "import matplotlib.pyplot as plt"
      ],
      "execution_count": null,
      "outputs": []
    },
    {
      "cell_type": "code",
      "metadata": {
        "id": "Mp2DGmaSRrdi"
      },
      "source": [
        "### First we define f(x) as a user-defined function\r\n",
        "def f(x): return x**2+x-2\r\n",
        "### Without doing any programmatic solution we'll set\r\n",
        "### x_0 and x_1 with the values we solved.\r\n",
        "x0, x1 = -2, 1"
      ],
      "execution_count": null,
      "outputs": []
    },
    {
      "cell_type": "code",
      "metadata": {
        "id": "UB8WMRP8SLGy"
      },
      "source": [
        "### Next we need to define the range of values for\r\n",
        "### the pre-images.\r\n",
        "X = np.arange(-5,6,0.1,dtype=float)\r\n",
        "print(X)"
      ],
      "execution_count": null,
      "outputs": []
    },
    {
      "cell_type": "code",
      "metadata": {
        "id": "3h3vrZhaSuJ3"
      },
      "source": [
        "### Let's now determine the images of our function\r\n",
        "### We can do this by setting the input of our user-\r\n",
        "### defined function with the set of pre-images we\r\n",
        "### defined earlier.\r\n",
        "Y = f(X)\r\n",
        "print(Y)"
      ],
      "execution_count": null,
      "outputs": []
    },
    {
      "cell_type": "code",
      "metadata": {
        "id": "_4T0CJYSThTq"
      },
      "source": [
        "### Now let's plot the images against the pre-images\r\n",
        "plt.figure(figsize=(10,5))\r\n",
        "plt.plot(X,Y,color='dodgerblue')\r\n",
        "### Let's show the x and y axes of the graph\r\n",
        "plt.axhline(color='black')\r\n",
        "plt.axvline(color='black')\r\n",
        "plt.grid()\r\n",
        "### Now let's plot the roots of the equation\r\n",
        "plt.scatter([x0,x1],[0,0], c='red', label='roots')\r\n",
        "\r\n",
        "plt.legend()\r\n",
        "plt.show()"
      ],
      "execution_count": null,
      "outputs": []
    },
    {
      "cell_type": "markdown",
      "metadata": {
        "id": "bNjYgCoWgMEQ"
      },
      "source": [
        "#### **Activity 2.1** \r\n",
        "1. Identify **two more polynomials** preferably **orders higher than 2** and **two transcendental functions**. Write them in **LaTex**.\r\n",
        "2. Plot their graphs you may choose your own set of pre-images.\r\n",
        "3. Manually solve for their roots and plot them along the graph of the equation.\r\n",
        "\r\n",
        "Use the space the space below for your answers."
      ]
    },
    {
      "cell_type": "markdown",
      "metadata": {
        "id": "JCylkKwihWfg"
      },
      "source": [
        "These are the equations:\r\n",
        "\r\n",
        "$$f(x) = x^3 + 2x^2 - x -2$$\r\n",
        "$$f(x) = 2x^4 - x^2 - 2x -1$$\r\n",
        "$$f(x) = x^2 + 3sin(x)cos(x) - 2$$\r\n",
        "$$f(x) = x^3 + 2cos(x) - 1$$"
      ]
    },
    {
      "cell_type": "code",
      "metadata": {
        "id": "AVfac6CihbCR",
        "colab": {
          "base_uri": "https://localhost:8080/",
          "height": 320
        },
        "outputId": "1bdc719f-0c84-4fe2-a8da-dbe1be87b0af"
      },
      "source": [
        "import numpy as np\r\n",
        "import matplotlib.pyplot as plt\r\n",
        "def f(x): return x**3 + 2*x**2 - x -2\r\n",
        "x0 = -3\r\n",
        "x1 = 1.7\r\n",
        "x = np.arange(-10,10,1, dtype=float)\r\n",
        "y = f(x)\r\n",
        "plt.figure(figsize=(5,5))\r\n",
        "plt.plot(x,y,color='red')\r\n",
        "plt.axhline(color='blue')\r\n",
        "plt.axvline(color='blue')\r\n",
        "plt.grid()\r\n",
        "plt.scatter([x0,x1],[0,0], c='black', label='roots')\r\n",
        "plt.legend()\r\n",
        "plt.show()"
      ],
      "execution_count": null,
      "outputs": [
        {
          "output_type": "display_data",
          "data": {
            "image/png": "[encoded data removed]",
            "text/plain": [
              "<Figure size 360x360 with 1 Axes>"
            ]
          },
          "metadata": {
            "tags": [],
            "needs_background": "light"
          }
        }
      ]
    },
    {
      "cell_type": "code",
      "metadata": {
        "colab": {
          "base_uri": "https://localhost:8080/",
          "height": 320
        },
        "id": "zYFrnROZleUF",
        "outputId": "2b6e98a9-79a8-4397-cfcb-666a39b62d95"
      },
      "source": [
        "def f(x): return 2*x**4 - x**2 - 2*x -1\r\n",
        "x0 = -2.7\r\n",
        "x1 = 2.7\r\n",
        "x = np.arange(-10,10,1, dtype=float)\r\n",
        "y = f(x)\r\n",
        "plt.figure(figsize=(5,5))\r\n",
        "plt.plot(x,y,color='red')\r\n",
        "plt.axhline(color='blue')\r\n",
        "plt.axvline(color='blue')\r\n",
        "plt.grid()\r\n",
        "plt.scatter([x0,x1],[0,0], c='black', label='roots')\r\n",
        "plt.legend()\r\n",
        "plt.show()"
      ],
      "execution_count": null,
      "outputs": [
        {
          "output_type": "display_data",
          "data": {
            "image/png": "[encoded data removed]",
            "text/plain": [
              "<Figure size 360x360 with 1 Axes>"
            ]
          },
          "metadata": {
            "tags": [],
            "needs_background": "light"
          }
        }
      ]
    },
    {
      "cell_type": "code",
      "metadata": {
        "colab": {
          "base_uri": "https://localhost:8080/",
          "height": 374
        },
        "id": "jS0QKFWglnF1",
        "outputId": "285e4b21-5d1b-4e86-ac24-9c1623d406d2"
      },
      "source": [
        "def f(x): return x**2 + 3*np.sin(x)*np.cos(x) - 2\r\n",
        "x0 = -1.7\r\n",
        "x1 = 1.7\r\n",
        "x = np.arange(-20,20,1, dtype=float)\r\n",
        "y = f(x)\r\n",
        "plt.figure(figsize=(6,6))\r\n",
        "plt.plot(x,y,color='red')\r\n",
        "plt.axhline(color='blue')\r\n",
        "plt.axvline(color='blue')\r\n",
        "plt.grid()\r\n",
        "plt.scatter([x0,x1],[0,0], c='black', label='roots')\r\n",
        "plt.legend()\r\n",
        "plt.show()"
      ],
      "execution_count": null,
      "outputs": [
        {
          "output_type": "display_data",
          "data": {
            "image/png": "[encoded data removed]",
            "text/plain": [
              "<Figure size 432x432 with 1 Axes>"
            ]
          },
          "metadata": {
            "tags": [],
            "needs_background": "light"
          }
        }
      ]
    },
    {
      "cell_type": "code",
      "metadata": {
        "colab": {
          "base_uri": "https://localhost:8080/",
          "height": 374
        },
        "id": "7s79cd4ulrhI",
        "outputId": "064a99e4-9637-4d9b-a672-2d14c6c94806"
      },
      "source": [
        "def f(x): return x**3 + 2*np.cos(x) - 1\r\n",
        "x0 = -1.05\r\n",
        "x1 = 1.15\r\n",
        "x = np.arange(-6,7,1, dtype=float)\r\n",
        "y = f(x)\r\n",
        "plt.figure(figsize=(6,6))\r\n",
        "plt.plot(x,y,color='red')\r\n",
        "plt.axhline(color='blue')\r\n",
        "plt.axvline(color='blue')\r\n",
        "plt.grid()\r\n",
        "plt.scatter([x0,x1],[0,0], c='black', label='roots')\r\n",
        "plt.legend()\r\n",
        "plt.show()"
      ],
      "execution_count": null,
      "outputs": [
        {
          "output_type": "display_data",
          "data": {
            "image/png": "[encoded data removed]",
            "text/plain": [
              "<Figure size 432x432 with 1 Axes>"
            ]
          },
          "metadata": {
            "tags": [],
            "needs_background": "light"
          }
        }
      ]
    },
    {
      "cell_type": "markdown",
      "metadata": {
        "id": "s4P87Q4tii94"
      },
      "source": [
        "### Computational Methods\r\n",
        "In modern mathematics, especially for the practice of Physics, Computer Science, and Computer Engineering, we will harness the power of computers in solving for problems such as root-finding. For the rest of this course, we will use Python in applying numerical methods.\r\n",
        "\r\n",
        "Computational methods or techniques translate the traditional mathematical, statistical, and scientific models or equations to computer programming aiming to increse the efficiency and applicability of these models to actual use. Understanding and practicing these methods will eventually lead to the fields e.g. Computational Physics and Artificial Intelligence. The famous programming languages used by scientists and engineers in practicing computational methods include:\r\n",
        "* Python\r\n",
        "* MATLab\r\n",
        "* R\r\n",
        "* Fortran\r\n",
        "* F#\r\n",
        "* C++ "
      ]
    },
    {
      "cell_type": "markdown",
      "metadata": {
        "id": "IxT9iZ_DGW9l"
      },
      "source": [
        "## 2.2 Simple Iteration Method (Brute Force)\r\n",
        "The first method that we will use in applying computational methods is through iterative methods. These methods are called **iterative** because the algorithms that will be designed will utilize iterations or looping statements.\r\n",
        "\r\n",
        "The easiest way to start with these iterative methods is through the *brute force* method. It's called brute force because we will use a linear search for finding the roots of equations. Brute force are rarely used in deployment of computational models because they are inefficient for higher degree equations."
      ]
    },
    {
      "cell_type": "markdown",
      "metadata": {
        "id": "-NJMgMRLmjKn"
      },
      "source": [
        "### 2.2.1 Brute Force Algorithm ($F(x)=0$)\r\n",
        "1. Set the function $f(x)$.\r\n",
        "2. Set the number of iterations\r\n",
        "3. Set a seed value or a starting guess as $h$. Usually zero.\r\n",
        "4. Apply the current $h$ to $f(x)$.\r\n",
        "5. Check whether the image produced is 0. (Eq. 2.1.1)\r\n",
        "6. If $f(h) \\not\\approx 0$, then repeat again from (4).\r\n",
        "7. If $f(h) \\approx 0$, then $x_{root}=h$.\r\n",
        "\r\n"
      ]
    },
    {
      "cell_type": "code",
      "metadata": {
        "id": "mwJPCiJor0_Y"
      },
      "source": [
        "## 1\r\n",
        "def f(x): return x**2+x-2"
      ],
      "execution_count": null,
      "outputs": []
    },
    {
      "cell_type": "markdown",
      "metadata": {
        "id": "5NoeIzx-fTGm"
      },
      "source": [
        "$$x^3+3x^2-4x-1 \\\\ x_1 = −0.21718 \\\\ x_2=1.16601\\\\x_3 = −3.94883$$\r\n"
      ]
    },
    {
      "cell_type": "code",
      "metadata": {
        "id": "VsxkxQ3Ff_GO"
      },
      "source": [
        "def g(x): return x**3+3*x**2-4*x-1"
      ],
      "execution_count": null,
      "outputs": []
    },
    {
      "cell_type": "code",
      "metadata": {
        "id": "HZ0XMBhcsPA1"
      },
      "source": [
        "## Finding one root\r\n",
        "epochs = 50\r\n",
        "h = -10\r\n",
        "x_roots = []\r\n",
        "for epoch in range(epochs):\r\n",
        "  x_guess = f(h)\r\n",
        "  print(x_guess)\r\n",
        "  if x_guess == 0:\r\n",
        "    x_roots.append(h)\r\n",
        "    break\r\n",
        "  else:\r\n",
        "    h+=1\r\n",
        "print(f\"The root is: {x_roots}, found at epoch {epoch}\")"
      ],
      "execution_count": null,
      "outputs": []
    },
    {
      "cell_type": "code",
      "metadata": {
        "id": "B5F08o_4ugmp"
      },
      "source": [
        "## Finding n number of roots\r\n",
        "epochs = 100000\r\n",
        "n_roots = 3\r\n",
        "x_roots = []\r\n",
        "end_epoch = 0\r\n",
        "h = -5\r\n",
        "\r\n",
        "for epoch in range(epochs):\r\n",
        "  print(g(h))\r\n",
        "  if np.allclose(0,g(h),1e-03):\r\n",
        "    x_roots.append(h)\r\n",
        "    end_epoch = epoch\r\n",
        "    if len(x_roots)==n_roots:\r\n",
        "      break\r\n",
        "  h+=1e-4\r\n",
        "\r\n",
        "print(f\"The root is: {x_roots}, found at epoch {end_epoch+1}\")"
      ],
      "execution_count": null,
      "outputs": []
    },
    {
      "cell_type": "markdown",
      "metadata": {
        "id": "J4_u2zmK1nXD"
      },
      "source": [
        "### 2.2.2 Brute Force Algorithm (In terms of X)\r\n",
        "1. Rearrange where the a single order of x is on one side of the equation.\r\n",
        "$$x_1=2-x^2\\\\x_2=\\sqrt{2-x}$$\r\n",
        "2. Set/Assume initial value of root. Usually 0.\r\n",
        "3. Calculate the new value of $x$ as $x'$ by substituting the current value of $x$ to the equation in (1).\r\n",
        "4. If $x' \\approx x$ then $x'$ is a root.\r\n",
        "5. If $x' \\not\\approx x$ then $x'$ is not a root. Repeat from (3)."
      ]
    },
    {
      "cell_type": "code",
      "metadata": {
        "id": "E7Gqr6IC3sID"
      },
      "source": [
        "# def f(x): return x**2+x-2\r\n",
        "def f1(x): return 2-x**2\r\n",
        "def f2(x): return np.sqrt(2-x)"
      ],
      "execution_count": null,
      "outputs": []
    },
    {
      "cell_type": "code",
      "metadata": {
        "id": "Jr1En-Cm1mz-"
      },
      "source": [
        "## Solving for a single root\r\n",
        "epochs = 100\r\n",
        "x=0\r\n",
        "root = None\r\n",
        "for epoch in range(epochs):\r\n",
        "  x_prime = f2(x)\r\n",
        "  if np.allclose(x,x_prime):\r\n",
        "    root = x\r\n",
        "    break\r\n",
        "  x = x_prime\r\n",
        "print(\"The root is {:.2f} found after {} epochs\".format(root,epoch))"
      ],
      "execution_count": null,
      "outputs": []
    },
    {
      "cell_type": "code",
      "metadata": {
        "id": "BKsZ4xhc5a8J"
      },
      "source": [
        "## Solving for n number of roots\r\n",
        "funcs = [f1, f2]\r\n",
        "n_roots = len(funcs)\r\n",
        "roots = []\r\n",
        "epochs = 100\r\n",
        "for func in funcs:\r\n",
        "  x=0\r\n",
        "  for epoch in range(epochs):\r\n",
        "    x_prime = func(x)\r\n",
        "    if np.allclose(x, x_prime):\r\n",
        "      roots.insert(len(roots), x)\r\n",
        "      break\r\n",
        "    x = x_prime\r\n",
        "print(roots)"
      ],
      "execution_count": null,
      "outputs": []
    },
    {
      "cell_type": "markdown",
      "metadata": {
        "id": "rqbWetlhGafF"
      },
      "source": [
        "## 2.3 Convergent and Divergent Algorithms\r\n",
        "It is important to identify success of your algorithms. One way to see whether a computational method is solving a problem i.e. finding roots or optimizing equations is to determine if the solution you are developing is converging or diverging to the answer.\r\n",
        "\r\n",
        "**Convergence**\r\n",
        "\r\n",
        "When we talk about the convergence of a solution, it pertains to the gradient of similarity between the current solution and the theoretical solution. If this were repsented in a graph, it would look like two similar graphs joining together after several epochs or iterations (Fig. 2.1). \r\n",
        "\r\n",
        "**Divergence**\r\n",
        "\r\n",
        "Divergence would then pertain to the event in which the answers that you are producing and the theoretical solutions do not meet each other or they split away from each other (Fig. 2.2)."
      ]
    },
    {
      "cell_type": "code",
      "metadata": {
        "id": "w61Iy40RGG3p"
      },
      "source": [
        "def k(x): return (2*x**3+0.5*x+20)**0.25"
      ],
      "execution_count": null,
      "outputs": []
    },
    {
      "cell_type": "code",
      "metadata": {
        "id": "EMUGLuxO_DNp"
      },
      "source": [
        "x = 0\r\n",
        "epochs = 10\r\n",
        "history_x = []\r\n",
        "history_x_prime = []\r\n",
        "for epoch in range(epochs):\r\n",
        "  x_prime = k(x)\r\n",
        "  history_x.append(x)\r\n",
        "  history_x_prime.append(x_prime)\r\n",
        "  if np.allclose(x, x_prime, 1.0e-6):\r\n",
        "    break\r\n",
        "  x = x_prime"
      ],
      "execution_count": null,
      "outputs": []
    },
    {
      "cell_type": "code",
      "metadata": {
        "id": "E9VeSjjj_4VU"
      },
      "source": [
        "history_x = history_x[0:]\r\n",
        "history_x_prime = history_x_prime[0:]\r\n",
        "x_range = np.arange(len(history_x),dtype=int)\r\n",
        "\r\n",
        "plt.figure(figsize=(10,7))\r\n",
        "plt.plot(x_range, history_x, 'o--',color='dodgerblue', label='x')\r\n",
        "plt.plot(x_range, history_x_prime,'D--', color='orange', label='x\\'')\r\n",
        "\r\n",
        "plt.title(\"Fig. 2.1 Convergent Solution\")\r\n",
        "plt.xlabel(\"Epochs\")\r\n",
        "plt.xticks(np.arange(min(x_range), max(x_range)+1, 1.0))\r\n",
        "plt.legend()\r\n",
        "plt.grid()\r\n",
        "plt.show()"
      ],
      "execution_count": null,
      "outputs": []
    },
    {
      "cell_type": "code",
      "metadata": {
        "id": "_iZsRmPSHv8I"
      },
      "source": [
        "def l(x): return np.sin(x)+np.cos(x**2)"
      ],
      "execution_count": null,
      "outputs": []
    },
    {
      "cell_type": "code",
      "metadata": {
        "id": "PjlFB8tUHyDm"
      },
      "source": [
        "x = 0\r\n",
        "epochs = 10\r\n",
        "history_x = []\r\n",
        "history_x_prime = []\r\n",
        "for epoch in range(epochs):\r\n",
        "  x_prime = l(x)\r\n",
        "  history_x.append(x)\r\n",
        "  history_x_prime.append(x_prime)\r\n",
        "  if np.allclose(x, x_prime, 1.0e-6):\r\n",
        "    break\r\n",
        "  x = x_prime"
      ],
      "execution_count": null,
      "outputs": []
    },
    {
      "cell_type": "code",
      "metadata": {
        "id": "nftr0ekFH0ws"
      },
      "source": [
        "history_x = history_x[0:]\r\n",
        "history_x_prime = history_x_prime[0:]\r\n",
        "x_range = np.arange(len(history_x),dtype=int)\r\n",
        "\r\n",
        "plt.figure(figsize=(10,7))\r\n",
        "plt.plot(x_range, history_x, 'o--',color='dodgerblue', label='x')\r\n",
        "plt.plot(x_range, history_x_prime,'D--', color='orange', label='x\\'')\r\n",
        "\r\n",
        "plt.title(\"Fig. 2.2 Divergent Solution\")\r\n",
        "plt.xlabel(\"Epochs\")\r\n",
        "plt.xticks(np.arange(min(x_range), max(x_range)+1, 1.0))\r\n",
        "plt.legend()\r\n",
        "plt.grid()\r\n",
        "plt.show()"
      ],
      "execution_count": null,
      "outputs": []
    },
    {
      "cell_type": "markdown",
      "metadata": {
        "id": "vEMOq_bRG6lN"
      },
      "source": [
        "## 2.4 Newton-Raphson Method\r\n",
        "The Newton-Raphson Method is another iterative computational method in solving for the roots of equations. Unlike the brute-force method, the Newton-Raphson method uses the updated function: \r\n",
        "$$x'=x- \\frac{f(x)}{f'(x)}\\\\ _{\\text{(Eq. 2.4.1)}}$$\r\n",
        "Whereas $x'$ is the guessed root, $f(x)$ is the equation we are solving, and $f'(x)$ is the derivative of that function. This method is more commonly used compared to the brute-force method since it converges faster.\r\n",
        "\r\n",
        "Let's try to use this sample equation for our implementation of the Newton-Raphson method:\r\n",
        "$$f(x)=2x^2-5x+3=0$$\r\n",
        "Whereas its derivative is $f'(x) = 4x-5$."
      ]
    },
    {
      "cell_type": "code",
      "metadata": {
        "id": "a1GpT1zNJJN7"
      },
      "source": [
        "def f(x): return 2*x**2 - 5*x + 3\r\n",
        "def f_prime(x): return 4*x-5"
      ],
      "execution_count": null,
      "outputs": []
    },
    {
      "cell_type": "code",
      "metadata": {
        "id": "tw6sgJUQKD7U"
      },
      "source": [
        "## Single Root\r\n",
        "epochs = 100\r\n",
        "x = 0\r\n",
        "root = None\r\n",
        "for epoch in range(epochs):\r\n",
        "  x_prime = x - (f(x)/f_prime(x))\r\n",
        "  if np.allclose(x, x_prime):\r\n",
        "    root = x\r\n",
        "    break\r\n",
        "  x = x_prime\r\n",
        "print(root, epoch)"
      ],
      "execution_count": null,
      "outputs": []
    },
    {
      "cell_type": "code",
      "metadata": {
        "id": "U1w9eadxLpQX"
      },
      "source": [
        "## N roots\r\n",
        "epochs = 100\r\n",
        "x_inits = np.arange(0,5)\r\n",
        "roots = []\r\n",
        "for x_init in x_inits:\r\n",
        "  x = x_init\r\n",
        "  for epoch in range(epochs):\r\n",
        "    x_prime = x - (f(x)/f_prime(x))\r\n",
        "    if np.allclose(x, x_prime):\r\n",
        "      roots.append(x)\r\n",
        "      break\r\n",
        "    x = x_prime\r\n",
        "np_roots = np.round(roots,3)\r\n",
        "np_roots = np.unique(np_roots)\r\n",
        "np_roots"
      ],
      "execution_count": null,
      "outputs": []
    },
    {
      "cell_type": "markdown",
      "metadata": {
        "id": "qgUm6lTONZd6"
      },
      "source": [
        "Now let's try a more complicated equation:\r\n",
        "$$g(x)=x^2+cos^2(x)-4x \\\\ g'(x)=2x-2cos(x)sin(x)-4$$"
      ]
    },
    {
      "cell_type": "code",
      "metadata": {
        "id": "iaBWdfNkNYJS"
      },
      "source": [
        "def g(x): return x**2 + np.cos(x)**2-4*x\r\n",
        "def g_prime(x): return 2*x + 2*np.cos(x)*np.sin(x)-4"
      ],
      "execution_count": null,
      "outputs": []
    },
    {
      "cell_type": "code",
      "metadata": {
        "id": "lp2YO5G-ORNT"
      },
      "source": [
        "## Solving for N number of roots\r\n",
        "epochs = 100\r\n",
        "x_inits = np.arange(0,5)\r\n",
        "roots = []\r\n",
        "for x_init in x_inits:\r\n",
        "  x = x_init\r\n",
        "  for epoch in range(epochs):\r\n",
        "    x_prime = x - (g(x)/g_prime(x))\r\n",
        "    if np.allclose(x, x_prime):\r\n",
        "      roots.append(x)\r\n",
        "      break\r\n",
        "    x = x_prime\r\n",
        "np_roots = np.array(roots)\r\n",
        "np_roots = np.round(np_roots,3)\r\n",
        "np_roots = np.unique(np_roots)\r\n",
        "np_roots"
      ],
      "execution_count": null,
      "outputs": []
    },
    {
      "cell_type": "markdown",
      "metadata": {
        "id": "fUOMEEoRIw_3"
      },
      "source": [
        "## 2.5 Bisection Method\r\n",
        "The bisection method is founded on the idea that the root of a given equation is a point corssing the x-axis. The Bisection Method, also called the interval halving method, the binary search method, or the dichotomy method is based on the Bolzano’s theorem for continuous functions\r\n",
        "\r\n",
        "> *Theorem (Bolzano) : If the function f(x) is continuous in [a, b] and f(a)f(b) < 0 (i.e. f(x) has opposite signs signs at a and b)\r\n",
        "then a value c ∈ (a, b) exists such that f(c) = 0.*\r\n",
        "\r\n",
        "![image](https://x-engineer.org/wp-content/uploads/2016/11/The-Bisection-Method-animation.gif?c4395d&c4395d)\r\n",
        "\r\n",
        "**Algorithm**:\r\n",
        "1. Set the assumed interval $\\iota$ wherein the root is expected.\r\n",
        "2. Calculate values of $y_1$ and $y_2$ given $\\iota_{1}$ and $\\iota_{2}$.\r\n",
        "3. Check whether the signs of $y$ are different (Bolzano's Theorem).\r\n",
        "4. If the signs of $y_1$ and $y_2$ are the same halt.\r\n",
        "5. If the signs of $y_1$ and $y_2$ are opposite, calculate the $x$ in the half of the interval.\r\n",
        "6. Check for the sign difference of $y_1$ and $y_2$ in the first-half interval (Bolzano's Theorem).\r\n",
        "7. If signs are opposite, let $\\iota_{1}$ and $\\iota_{2}$ be the new limits of the first-half interval.\r\n",
        "8. If signs are the same, let $\\iota_{1}$ and $\\iota_{2}$ be the new limits of the second-half interval.\r\n",
        "9. If $y_1$ and $y_2$ approach 0, halt.\r\n",
        "10. Else repeat from 5.\r\n"
      ]
    },
    {
      "cell_type": "markdown",
      "metadata": {
        "id": "9TuLxv3VP9j9"
      },
      "source": [
        "Example:\r\n",
        "$$2x^2-5x+3=0 \\\\ y = 2x^2-5x+3$$\r\n",
        "Ground truth: $x_1=1.5, x_2=1$"
      ]
    },
    {
      "cell_type": "code",
      "metadata": {
        "id": "C1f_Tuy-OpNI"
      },
      "source": [
        "# Single Root\r\n",
        "\r\n",
        "def f(x): return 2*x**2 - 5*x + 3\r\n",
        "i1, i2 = 1.1, 2\r\n",
        "y1, y2 = f(i1), f(i2)\r\n",
        "root = None\r\n",
        "end_bisect = 0\r\n",
        "if np.sign(y1) == np.sign(y2):\r\n",
        "  print(\"Root cannot be found in the given interval\")\r\n",
        "else:\r\n",
        "  for bisect in range(0,100):\r\n",
        "    midp = np.mean([i1,i2])\r\n",
        "    y_mid = f(midp)\r\n",
        "    y1 = f(i1)\r\n",
        "    if np.allclose(0,y1, 1e-06):\r\n",
        "      root = i1\r\n",
        "      end_bisect = bisect\r\n",
        "      break\r\n",
        "    if np.sign(y1) != np.sign(y_mid): #root is in first-half interval\r\n",
        "      i2 = midp\r\n",
        "    else: #root is in second-half interval\r\n",
        "      i1 = midp \r\n",
        "\r\n",
        "  print(\"The root is {:.04f}, found at {} bisections\".format(root, end_bisect))  "
      ],
      "execution_count": null,
      "outputs": []
    },
    {
      "cell_type": "markdown",
      "metadata": {
        "id": "lgFBculYV_PE"
      },
      "source": [
        "But how to do this for multiple roots?"
      ]
    },
    {
      "cell_type": "markdown",
      "metadata": {
        "id": "tLyQe808Izel"
      },
      "source": [
        "## 2.6 Regula Falsi (False Position) Method\r\n",
        "\r\n",
        "Regula falsi is similar to the bisection method. The method is the trial and error technique of using test (\"false\") values for the variable and then adjusting the test value according to the outcome [[2]](https://iq.opengenus.org/regula-falsi-method/).\r\n",
        "\r\n",
        "![image](https://iq.opengenus.org/content/images/2019/09/regula.gif)\r\n",
        "\r\n",
        "An approximation can be obtained finding the point $(c, 0)$ where the secant line $L$ joining the points $(a, f(a))$ and $(b, f (b))$ crosses the x-axis (see the image below). To find the value $c$, we write down two versions of the slope m of the line $L$:\r\n",
        "\r\n",
        "![image](https://iq.opengenus.org/content/images/2019/09/rf-2.png)\r\n",
        "\r\n",
        "We first use points $(a, f (a))$ and $(b, f (b))$ to get the slope of $L$:\r\n",
        "$$m_{La} = \\frac{f(b)-f(a)}{b-a} \\\\ _{\\text{(Eq. 2.6.1)}}$$\r\n",
        "Then using the points $(c, 0)$ and $(b, f (b))$ to obtain the slope of a section $L$ below the x-axis as:\r\n",
        "$$m_{Lb} = \\frac{0-f(b)}{c-b}\\\\ _{\\text{(Eq. 2.6.2)}}$$\r\n",
        "We then solve for the false root $c$ by equating Eq. 2.6.1 and Eq. 2.6.2 with respect to the idea that $m_{La}$ should be consistent with the slope of $m_{Lb}$ since they are sections of the same line $L$:\r\n",
        "$$\\frac{f(b)-f(a)}{b-a} = \\frac{0-f(b)}{c-b}\\\\ _{\\text{(Eq. 2.6.3)}}\\\\ c = b - \\frac{f(b)\\cdot(b-a)}{f(b)-f(a)}\\\\ _{\\text{(Eq. 2.6.4)}}\r\n",
        "$$\r\n",
        "\r\n",
        "**Algorithm**:\r\n",
        "1. Set the assumed interval $a$ and $b$ wherein the root is expected.\r\n",
        "2. Calculate values of $y_1$ and $y_2$ given $a$ and $b$.\r\n",
        "3. Check whether the signs of $y$ are different (Bolzano's Theorem).\r\n",
        "4. If the signs are the same, halt.\r\n",
        "5. Calculate the value of $c$ and $f(c)$ (Eq. 2.6.4)\r\n",
        "6. If $f(c)$ approaches 0, halt and obtain the root.\r\n",
        "7. If $f(c)$ and $f(a)$ have opposite signs, set $b=c$ and $y_2=f(c)$ \r\n",
        "8. If $f(c)$ and $f(a)$ have same signs, set $a=c$ and $y_1=f(c)$\r\n",
        "9. Repeat from 5."
      ]
    },
    {
      "cell_type": "code",
      "metadata": {
        "id": "2m3Xv24WWfG8"
      },
      "source": [
        "def f(x): return 2*x**2 - 5*x + 3\r\n",
        "a,b = 1.1,3\r\n",
        "y1, y2 = f(a), f(b)\r\n",
        "root = None \r\n",
        "pos = 0\r\n",
        "if np.allclose(0,y1): root = a\r\n",
        "elif np.allclose(0,y2): root = b\r\n",
        "elif np.sign(y1) == np.sign(y2):\r\n",
        "  print(\"No root here\")\r\n",
        "else:\r\n",
        "  for pos in range(0,100):\r\n",
        "    c = b - (f(b)*(b-a))/(f(b)-f(a)) ##false root\r\n",
        "    if np.allclose(0,f(c), 1e-06):\r\n",
        "      root = c\r\n",
        "      break\r\n",
        "    if np.sign(f(a)) != np.sign(f(c)): b,y2 = c,f(c)\r\n",
        "    else: a,y1 = c,f(c) \r\n",
        "\r\n",
        "print(\"The root is {:.04f}, found at {} false position\".format(root, pos))\r\n",
        "  "
      ],
      "execution_count": null,
      "outputs": []
    },
    {
      "cell_type": "markdown",
      "metadata": {
        "id": "o1XHiF3TmVVJ"
      },
      "source": [
        "Now try for yourself in solving multiple roots"
      ]
    },
    {
      "cell_type": "markdown",
      "metadata": {
        "id": "GAcx0EfjI3ed"
      },
      "source": [
        "## 2.7 Secant Method\r\n",
        "\r\n",
        "The idea underlying the secant method is the same as the one underlying Newton's method: to fi\fnd an approximate zero of a function $f(x)$ we \ffind instead a zero for a linear function $F(x)$ that corresponds to a \"best straight line of fit\" to $f(x)$ [[3]](https://math.okstate.edu/people/binegar/4513-F98/4513-l08.pdf). \r\n",
        "\r\n",
        "\r\n",
        "The secant method is also similar to regula falsi method except instead of dividing each interval by choosing the midpoint the secant method divides each interval by the secant line connecting the endpoints. The secant method always converges to a root of $f(x)=0$ provided that $f(x)$ is continuous on $[x_1,x_2]$ and $f(x_1)f(x_2)<0$ [[4]](https://www.math.ubc.ca/~pwalls/math-python/roots-optimization/secant/). \r\n",
        "\r\n",
        "\r\n",
        "\r\n"
      ]
    },
    {
      "cell_type": "markdown",
      "metadata": {
        "id": "KL1x9vwfqIUZ"
      },
      "source": [
        "Since a secant line is defined using two points on the graph of $f(x)$, as opposed to a tangent line that requires information at only one point on the graph, it is necessary to choose two initial iterates $x_0$ and $x_1$. Then, as in Newton’s method, the next iterate $x_2$ is then obtained by computing the x-value at which the secant line passing through the points $(x_0, f(x_0))$ and $(x_1, f(x_1))$ has a y-coordinate of zero [[5]](https://iq.opengenus.org/secant-method/). This yields the equation:\r\n",
        "$$\\frac{f(x_1)-f(x_0)}{x_1-x_0}\\cdot(x_2-x_1)+f(x_1)=0 \\\\ _{\\text{(Eq. 2.7.1)}} \\\\\r\n",
        "\r\n",
        "x_2 = x_1 - \\frac{f(x_1)\\cdot(x_1-x_0)}{f(x_1)-f(x_0)} \\\\ _{\\text{(Eq. 2.7.2)}}\r\n",
        "$$\r\n",
        "\r\n",
        "You can observe that Eq. 2.7.2 is similar to Eq. 2.6.4 from Regula falsi, but unlike in the regula falsi method do not check whether the inital two estimates statisfy the condition that function sign at both points should be opposite.\r\n",
        "\r\n",
        "![image](https://iq.opengenus.org/content/images/2019/09/Secantaa.gif)\r\n",
        "\r\n",
        "**Algorithm**:\r\n",
        "1. Set initial guesses for $x_0$ and $x_1$.\r\n",
        "2. Calculate for $x_2$ using Eq. 2.7.2\r\n",
        "3. If $|x_2-x_1| \\approx 0$, halt and retrieve root.\r\n",
        "4. Else $x_0 = x_1$ and $x_1 = x_2$\r\n",
        "5. Repeat from 2 \r\n"
      ]
    },
    {
      "cell_type": "code",
      "metadata": {
        "id": "Y1RmiHRJqHya"
      },
      "source": [
        "# Single Root\r\n",
        "def f(x): return 2*x**2 - 5*x + 3\r\n",
        "a, b = 0, 1.1\r\n",
        "epochs = 100\r\n",
        "root = None\r\n",
        "for epoch in range(epochs):\r\n",
        "  c = b - (f(b)*(b-a))/(f(b)-f(a))\r\n",
        "  if np.allclose(b,c): \r\n",
        "    root = c\r\n",
        "    break\r\n",
        "  else:\r\n",
        "    a,b = b,c\r\n",
        "print(\"The root is {:.04f}, found at {} epochs\".format(root, epoch))"
      ],
      "execution_count": null,
      "outputs": []
    },
    {
      "cell_type": "markdown",
      "metadata": {
        "id": "f4DFMjHqygDa"
      },
      "source": [
        "Try creating a method for finding multiple roots"
      ]
    },
    {
      "cell_type": "markdown",
      "metadata": {
        "id": "n__qr60XI71m"
      },
      "source": [
        "## 2.8 Using the NumPy and SciPy\r\n",
        "\r\n"
      ]
    },
    {
      "cell_type": "markdown",
      "metadata": {
        "id": "qt8ASf_qXpwp"
      },
      "source": [
        "### 2.8.1 `numpy.roots` \r\n",
        "Unlike the functions that we are developing in which we have functions as parameters, the `numpy.roots` accepts an array of numerical coefficients. The values in the rank-1 array $p$ are coefficients of a polynomial [[6]](https://numpy.org/doc/stable/reference/generated/numpy.roots.html). If the length of $p$ is $n+1$ then the polynomial is described by:\r\n",
        "$$p_0x^n + p_1x^{n-1} + ... + p_{n-1}*x + p_n$$\r\n",
        "The algorithm relies on computing the eigenvalues of the companion matrix [[7]](http://www.cse.zju.edu.cn/eclass/attachments/2015-10/01-1446086008-145421.pdf).\r\n",
        "\r\n",
        "So given the sample polynomial:\r\n",
        "$$y = 2x^2-5x+3$$"
      ]
    },
    {
      "cell_type": "code",
      "metadata": {
        "id": "svGiosEw1InA"
      },
      "source": [
        "coeff = [2,-5,3]\r\n",
        "roots = np.roots(coeff)\r\n",
        "print(roots)"
      ],
      "execution_count": null,
      "outputs": []
    },
    {
      "cell_type": "markdown",
      "metadata": {
        "id": "imVKCm9xXwzR"
      },
      "source": [
        "### 2.8.2 `scipy.optimize.newton`\r\n",
        "Scientific Python or SciPy [[8]](https://docs.scipy.org/doc/scipy/reference/index.html) is another package for computational methods using Python. SciPy has a `optimize` module that includes several root-finding algorithms. One of such is the `newton` function that implements the Newton-Raphson method. The `newton` method finds a zero of the function func given a nearby starting point `x0`. The Newton-Raphson method is used if the derivative `fprime` of `func` is provided, otherwise the secant method is used. If the second order derivative `fprime2` of `func` is also provided, then Halley’s / Newton-Raphson method is used. If `x0` is a sequence with more than one item, then newton returns an array, and `func` must be vectorized and return a sequence or array of the same shape as its first argument. If `fprime` or `fprime2` is given, then its return must also have the same shape [[9]](https://docs.scipy.org/doc/scipy/reference/generated/scipy.optimize.newton.html).\r\n",
        "\r\n",
        "**Syntax**:\r\n",
        "> `scipy.optimize.newton(func, x0, fprime=None, args=(), tol=1.48e-08, maxiter=50, fprime2=None, x1=None, rtol=0.0, full_output=False, disp=True)`\r\n",
        "\r\n",
        "Let's try to implement `scipy.optimize.newton` using the same sample polynomial at 2.8.1:"
      ]
    },
    {
      "cell_type": "code",
      "metadata": {
        "id": "R8yX4FSGLnHB"
      },
      "source": [
        "from scipy import optimize as opt"
      ],
      "execution_count": null,
      "outputs": []
    },
    {
      "cell_type": "code",
      "metadata": {
        "id": "w22SCZkVXwcD"
      },
      "source": [
        "func = lambda x : 2*x**2 - 5*x + 3\r\n",
        "roots_newton = opt.newton(func, 0)\r\n",
        "roots_newton"
      ],
      "execution_count": null,
      "outputs": []
    },
    {
      "cell_type": "markdown",
      "metadata": {
        "id": "QfCR-Uh_X9aC"
      },
      "source": [
        "### 2.8.3 `scipy.optmize.bisect`\r\n",
        "\r\n",
        "The `bisect` function is another root-finding function in the `scipy.optimize` module in which it finds the root of a function within an interval using the bisection method. Basic bisection routine to find a zero of the function f between the arguments `a` and `b`. `f(a)` and `f(b)` cannot have the same signs [[10]](https://docs.scipy.org/doc/scipy/reference/generated/scipy.optimize.bisect.html#scipy.optimize.bisect).\r\n",
        "\r\n",
        "**Syntax**\r\n",
        "> `scipy.optimize.bisect(f, a, b, args=(), xtol=2e-12, rtol=8.881784197001252e-16, maxiter=100, full_output=False, disp=True)`\r\n",
        "\r\n",
        "Let's use the 2.8.2 sample function: "
      ]
    },
    {
      "cell_type": "code",
      "metadata": {
        "id": "h8MZmfUyYDqa"
      },
      "source": [
        "roots_bisect = opt.bisect(func,0,1.1)\r\n",
        "roots_bisect"
      ],
      "execution_count": null,
      "outputs": []
    },
    {
      "cell_type": "markdown",
      "metadata": {
        "id": "NwNebm57Y-cy"
      },
      "source": [
        "## 2.9 Practical Applications of Root-Finding Algorithms (Optimization)\r\n",
        "As featured in our discussion at the start of this module, root-finding algorithms are widely used in optimization problems. Optimization techniques is a core topic in the higher engineering mathematics and design, operations, economics, quantum mechanics, and especially in cognitive computing. "
      ]
    },
    {
      "cell_type": "markdown",
      "metadata": {
        "id": "LM-4hqNYI5wd"
      },
      "source": [
        "## References\r\n",
        "[1] J.R. Hauser. (2009) *Roots of Nonlinear Equations.* Engineering Models. Springer, Dordrecht. https://doi.org/10.1007/978-1-4020-9920-5_3\r\n",
        "\r\n",
        "[2] E. Chopra. (2019) *Regula Falsi Method for finding root of a polynomial*. OpenGenus Foundation. https://iq.opengenus.org/regula-falsi-method/\r\n",
        "\r\n",
        "[3] B. Binegar. (1998) *Secant Method*. Fall Lecture onn Introduction to Numerical Analysis. Oklahoma State University. https://math.okstate.edu/people/binegar/4513-F98/4513-l08.pdf\r\n",
        "\r\n",
        "[4] P. Walls (2019) *Roots and Optimization: Secant Method*. Mathematical Python. https://www.math.ubc.ca/~pwalls/math-python/roots-optimization/secant/\r\n",
        "\r\n",
        "[5] E. Chopra. (2019) *Secant Method to find root of any function*. OpenGenus Foundation. https://iq.opengenus.org/secant-method/\r\n",
        "\r\n",
        "[6] SciPy Community. (2021) *NumPy Roots*. NumPy Documentation. https://numpy.org/doc/stable/reference/generated/numpy.roots.html\r\n",
        "\r\n",
        "[7] R. A. Horn & C. R. Johnson, Matrix Analysis. Cambridge, UK: Cambridge University Press, 1999, pp. 146-7. http://www.cse.zju.edu.cn/eclass/attachments/2015-10/01-1446086008-145421.pdf\r\n",
        "\r\n",
        "[8] SciPy Community. (2021) *SciPy*. NumPy Documentation. https://docs.scipy.org/doc/scipy/reference/index.html\r\n",
        "\r\n",
        "[9] SciPy Community. (2021) *scipy.optimize.newton*. NumPy Documentation. https://docs.scipy.org/doc/scipy/reference/generated/scipy.optimize.newton.html\r\n",
        "\r\n",
        "[10] SciPy Community. (2021) *scipy.optimize.bisect*. NumPy Documentation. https://docs.scipy.org/doc/scipy/reference/generated/scipy.optimize.bisect.html"
      ]
    }
  ]
}